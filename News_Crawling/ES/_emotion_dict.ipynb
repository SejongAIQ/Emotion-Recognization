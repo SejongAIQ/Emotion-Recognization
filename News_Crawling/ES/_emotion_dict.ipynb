{
  "cells": [
    {
      "cell_type": "code",
      "execution_count": null,
      "metadata": {
        "colab": {
          "base_uri": "https://localhost:8080/"
        },
        "id": "cN9D1RJxKhLw",
        "outputId": "bf111ac1-1aa4-4c67-d556-7395f0da7abd"
      },
      "outputs": [
        {
          "name": "stdout",
          "output_type": "stream",
          "text": [
            "Collecting konlpy\n",
            "  Downloading konlpy-0.6.0-py2.py3-none-any.whl (19.4 MB)\n",
            "\u001b[K     |████████████████████████████████| 19.4 MB 47.9 MB/s \n",
            "\u001b[?25hRequirement already satisfied: numpy>=1.6 in /usr/local/lib/python3.7/dist-packages (from konlpy) (1.19.5)\n",
            "Collecting JPype1>=0.7.0\n",
            "  Downloading JPype1-1.3.0-cp37-cp37m-manylinux_2_5_x86_64.manylinux1_x86_64.whl (448 kB)\n",
            "\u001b[K     |████████████████████████████████| 448 kB 45.8 MB/s \n",
            "\u001b[?25hRequirement already satisfied: lxml>=4.1.0 in /usr/local/lib/python3.7/dist-packages (from konlpy) (4.2.6)\n",
            "Requirement already satisfied: typing-extensions in /usr/local/lib/python3.7/dist-packages (from JPype1>=0.7.0->konlpy) (3.10.0.2)\n",
            "Installing collected packages: JPype1, konlpy\n",
            "Successfully installed JPype1-1.3.0 konlpy-0.6.0\n"
          ]
        }
      ],
      "source": [
        "import pandas as pd\n",
        "\n",
        "!pip install konlpy\n",
        "from konlpy.tag import Okt"
      ]
    },
    {
      "cell_type": "code",
      "execution_count": null,
      "metadata": {
        "colab": {
          "base_uri": "https://localhost:8080/"
        },
        "id": "Ki-X_DM8Kw9H",
        "outputId": "d2365f6a-9f95-46d8-f9aa-ff983d54e58c"
      },
      "outputs": [
        {
          "name": "stdout",
          "output_type": "stream",
          "text": [
            "    2022.02.03 10:55  ... 공식 트위치와 유튜브 채널에서 콘텐츠 정보 제공 파이낸셜뉴스 엔씨소프트 엔씨 북미법인 엔씨웨스트 NC West 는 길드워2’ 신규확장팩 엔드오브드래곤즈’를 오는 28일 현지 기준 북미와 유럽 지역에 출시한다고 3일 밝혔다 길드워2는 엔씨 북미 개발 스튜디오 아레나넷 ArenaNet 이 제작한 PC 온라인 다중접속역할수행게임 MMORPG 이다 엔드오브드래곤즈는 지난 2015년 가시의 심장’ 2017년 패스오브파이어’에 이어 약 5년 만에 선보이는 길드워2 세 번째 확장팩이다 엔씨웨스트는 출시일과 함께 신규 트레일러 영상을 공개했다 확장팩 주무대인 칸타 Cantha ’ 영지의 광활한 모습과 신규 콘텐츠 및 기능을 엿볼 수 있다 또 대규모 오픈 월드 콘텐츠를 비롯해 △모든 수상 공간에서 즐길 수 있는 낚시’ △최대 다섯 캐릭터가 함께 수상 이동 가능한 선박 스키프’ △협동 전투 마운트 시저 터틀’ △최고 레벨 캐릭터를 성장시킬 수 있는 9개 특수화 시스템’ 등이 특징이다 엔씨웨스트 NC West 길드워2’ 신규확장팩 엔드오브드래곤즈’ 엔씨 제공 엔씨웨스트는 출시를 앞두고 2월 한 달간 신규 지역 및 콘텐츠 정보와 게임 OST 등을 공식 트위치와 유튜브 채널에서 추가 공개한다 글로벌 이용자는 사전 구매에 참여할 수 있다 엔씨웨스트 길드워2 엔드오브드래곤즈 파이낸셜뉴스 관련뉴스해당 언론사에서 선정하며 언론사 페이지 아웃링크 로 이동해 볼 수 있습니다 김건희 과거사진에 놀란 누리꾼 애교머리 빼면 의외로 이효리 폭탄발언 엄정화 브래지어 맞는데 中 금지된 검색어 쉬저우 8명의 자녀 사건의 전말 다른 곳도 한국인처럼 영국男의 선넘은 수술윤여정이 조영남에게 남긴 한 마디 셋이 함께\n",
            "0   2022.02.03 09:15  ...  ◆ 사진 엔씨소프트 엔씨소프트의 북미법인 엔씨웨스트 NC West 가 길드워2의 신...                                                                                                                                                                                                                                                                                                                                                                                                                                                                                                                                                                                                                                                                                                                                                                                                             \n",
            "1   2022.02.03 10:31  ...  길드워2 신규 확장팩 엔드오브드래곤즈 End of Dragons 사진 엔씨소프트 제...                                                                                                                                                                                                                                                                                                                                                                                                                                                                                                                                                                                                                                                                                                                                                                                                             \n",
            "2   2022.02.03 09:16  ...  이데일리 김정유 기자 엔씨소프트 036570 이하 엔씨 는 북미법인 엔씨웨스트가 길...                                                                                                                                                                                                                                                                                                                                                                                                                                                                                                                                                                                                                                                                                                                                                                                                             \n",
            "3   2022.02.02 09:07  ...  서울 뉴스1 김근욱 기자 27일 오전 서울 구로구 넷마블 신사옥 G타워에서 열린 제...                                                                                                                                                                                                                                                                                                                                                                                                                                                                                                                                                                                                                                                                                                                                                                                                             \n",
            "4   2022.02.01 10:01  ...  이데일리 김정유 기자 설 연휴를 맞은 국내 게임 업계가 다양한 이벤트로 이용자 잡기...                                                                                                                                                                                                                                                                                                                                                                                                                                                                                                                                                                                                                                                                                                                                                                                                             \n",
            "\n",
            "[5 rows x 3 columns]\n"
          ]
        }
      ],
      "source": [
        "news = pd.read_csv('/content/[엔씨소프트]news_data.csv')\n",
        "print(news.head())"
      ]
    },
    {
      "cell_type": "code",
      "execution_count": null,
      "metadata": {
        "colab": {
          "base_uri": "https://localhost:8080/"
        },
        "id": "VJ6SDb_GK7QB",
        "outputId": "5ab8eda1-ab82-4079-fb78-2a2c138c75ba"
      },
      "outputs": [
        {
          "name": "stdout",
          "output_type": "stream",
          "text": [
            "<class 'pandas.core.frame.DataFrame'>\n",
            "RangeIndex: 4544 entries, 0 to 4543\n",
            "Data columns (total 3 columns):\n",
            " #   Column                                                                                                                                                                                                                                                                                                                                                                                                                                                                                                                                                                                                                                                                                                                                                                                                                                                           Non-Null Count  Dtype \n",
            "---  ------                                                                                                                                                                                                                                                                                                                                                                                                                                                                                                                                                                                                                                                                                                                                                                                                                                                           --------------  ----- \n",
            " 0    2022.02.03 10:55                                                                                                                                                                                                                                                                                                                                                                                                                                                                                                                                                                                                                                                                                                                                                                                                                                                4544 non-null   object\n",
            " 1   엔씨 길드워2 엔드오브드래곤즈’ 28일 북미·유럽 공개                                                                                                                                                                                                                                                                                                                                                                                                                                                                                                                                                                                                                                                                                                                                                                                                                                   4544 non-null   object\n",
            " 2   공식 트위치와 유튜브 채널에서 콘텐츠 정보 제공 파이낸셜뉴스 엔씨소프트 엔씨 북미법인 엔씨웨스트 NC West 는 길드워2’ 신규확장팩 엔드오브드래곤즈’를 오는 28일 현지 기준 북미와 유럽 지역에 출시한다고 3일 밝혔다 길드워2는 엔씨 북미 개발 스튜디오 아레나넷 ArenaNet 이 제작한 PC 온라인 다중접속역할수행게임 MMORPG 이다 엔드오브드래곤즈는 지난 2015년 가시의 심장’ 2017년 패스오브파이어’에 이어 약 5년 만에 선보이는 길드워2 세 번째 확장팩이다 엔씨웨스트는 출시일과 함께 신규 트레일러 영상을 공개했다 확장팩 주무대인 칸타 Cantha ’ 영지의 광활한 모습과 신규 콘텐츠 및 기능을 엿볼 수 있다 또 대규모 오픈 월드 콘텐츠를 비롯해 △모든 수상 공간에서 즐길 수 있는 낚시’ △최대 다섯 캐릭터가 함께 수상 이동 가능한 선박 스키프’ △협동 전투 마운트 시저 터틀’ △최고 레벨 캐릭터를 성장시킬 수 있는 9개 특수화 시스템’ 등이 특징이다 엔씨웨스트 NC West 길드워2’ 신규확장팩 엔드오브드래곤즈’ 엔씨 제공 엔씨웨스트는 출시를 앞두고 2월 한 달간 신규 지역 및 콘텐츠 정보와 게임 OST 등을 공식 트위치와 유튜브 채널에서 추가 공개한다 글로벌 이용자는 사전 구매에 참여할 수 있다 엔씨웨스트 길드워2 엔드오브드래곤즈 파이낸셜뉴스 관련뉴스해당 언론사에서 선정하며 언론사 페이지 아웃링크 로 이동해 볼 수 있습니다 김건희 과거사진에 놀란 누리꾼 애교머리 빼면 의외로 이효리 폭탄발언 엄정화 브래지어 맞는데 中 금지된 검색어 쉬저우 8명의 자녀 사건의 전말 다른 곳도 한국인처럼 영국男의 선넘은 수술윤여정이 조영남에게 남긴 한 마디 셋이 함께  4544 non-null   object\n",
            "dtypes: object(3)\n",
            "memory usage: 106.6+ KB\n",
            "None\n"
          ]
        }
      ],
      "source": [
        "print(news.info())"
      ]
    },
    {
      "cell_type": "code",
      "execution_count": null,
      "metadata": {
        "colab": {
          "base_uri": "https://localhost:8080/"
        },
        "id": "fDN9rUyyLHKi",
        "outputId": "f34d4578-99f3-49c2-a144-8328b6eadd3a"
      },
      "outputs": [
        {
          "name": "stdout",
          "output_type": "stream",
          "text": [
            "    2022.02.03 10:55  ... 공식 트위치와 유튜브 채널에서 콘텐츠 정보 제공 파이낸셜뉴스 엔씨소프트 엔씨 북미법인 엔씨웨스트 NC West 는 길드워2’ 신규확장팩 엔드오브드래곤즈’를 오는 28일 현지 기준 북미와 유럽 지역에 출시한다고 3일 밝혔다 길드워2는 엔씨 북미 개발 스튜디오 아레나넷 ArenaNet 이 제작한 PC 온라인 다중접속역할수행게임 MMORPG 이다 엔드오브드래곤즈는 지난 2015년 가시의 심장’ 2017년 패스오브파이어’에 이어 약 5년 만에 선보이는 길드워2 세 번째 확장팩이다 엔씨웨스트는 출시일과 함께 신규 트레일러 영상을 공개했다 확장팩 주무대인 칸타 Cantha ’ 영지의 광활한 모습과 신규 콘텐츠 및 기능을 엿볼 수 있다 또 대규모 오픈 월드 콘텐츠를 비롯해 △모든 수상 공간에서 즐길 수 있는 낚시’ △최대 다섯 캐릭터가 함께 수상 이동 가능한 선박 스키프’ △협동 전투 마운트 시저 터틀’ △최고 레벨 캐릭터를 성장시킬 수 있는 9개 특수화 시스템’ 등이 특징이다 엔씨웨스트 NC West 길드워2’ 신규확장팩 엔드오브드래곤즈’ 엔씨 제공 엔씨웨스트는 출시를 앞두고 2월 한 달간 신규 지역 및 콘텐츠 정보와 게임 OST 등을 공식 트위치와 유튜브 채널에서 추가 공개한다 글로벌 이용자는 사전 구매에 참여할 수 있다 엔씨웨스트 길드워2 엔드오브드래곤즈 파이낸셜뉴스 관련뉴스해당 언론사에서 선정하며 언론사 페이지 아웃링크 로 이동해 볼 수 있습니다 김건희 과거사진에 놀란 누리꾼 애교머리 빼면 의외로 이효리 폭탄발언 엄정화 브래지어 맞는데 中 금지된 검색어 쉬저우 8명의 자녀 사건의 전말 다른 곳도 한국인처럼 영국男의 선넘은 수술윤여정이 조영남에게 남긴 한 마디 셋이 함께\n",
            "0   2022.02.03 09:15  ...  ◆ 사진 엔씨소프트 엔씨소프트의 북미법인 엔씨웨스트 NC West 가 길드워2의 신...                                                                                                                                                                                                                                                                                                                                                                                                                                                                                                                                                                                                                                                                                                                                                                                                             \n",
            "1   2022.02.03 10:31  ...  길드워2 신규 확장팩 엔드오브드래곤즈 End of Dragons 사진 엔씨소프트 제...                                                                                                                                                                                                                                                                                                                                                                                                                                                                                                                                                                                                                                                                                                                                                                                                             \n",
            "2   2022.02.03 09:16  ...  이데일리 김정유 기자 엔씨소프트 036570 이하 엔씨 는 북미법인 엔씨웨스트가 길...                                                                                                                                                                                                                                                                                                                                                                                                                                                                                                                                                                                                                                                                                                                                                                                                             \n",
            "3   2022.02.02 09:07  ...  서울 뉴스1 김근욱 기자 27일 오전 서울 구로구 넷마블 신사옥 G타워에서 열린 제...                                                                                                                                                                                                                                                                                                                                                                                                                                                                                                                                                                                                                                                                                                                                                                                                             \n",
            "4   2022.02.01 10:01  ...  이데일리 김정유 기자 설 연휴를 맞은 국내 게임 업계가 다양한 이벤트로 이용자 잡기...                                                                                                                                                                                                                                                                                                                                                                                                                                                                                                                                                                                                                                                                                                                                                                                                             \n",
            "\n",
            "[5 rows x 3 columns]\n",
            "Index([' 2022.02.03 10:55', '엔씨 길드워2 엔드오브드래곤즈’ 28일 북미·유럽 공개',\n",
            "       '공식 트위치와 유튜브 채널에서 콘텐츠 정보 제공 파이낸셜뉴스 엔씨소프트 엔씨 북미법인 엔씨웨스트 NC West 는 길드워2’ 신규확장팩 엔드오브드래곤즈’를 오는 28일 현지 기준 북미와 유럽 지역에 출시한다고 3일 밝혔다 길드워2는 엔씨 북미 개발 스튜디오 아레나넷 ArenaNet 이 제작한 PC 온라인 다중접속역할수행게임 MMORPG 이다 엔드오브드래곤즈는 지난 2015년 가시의 심장’ 2017년 패스오브파이어’에 이어 약 5년 만에 선보이는 길드워2 세 번째 확장팩이다 엔씨웨스트는 출시일과 함께 신규 트레일러 영상을 공개했다 확장팩 주무대인 칸타 Cantha ’ 영지의 광활한 모습과 신규 콘텐츠 및 기능을 엿볼 수 있다 또 대규모 오픈 월드 콘텐츠를 비롯해 △모든 수상 공간에서 즐길 수 있는 낚시’ △최대 다섯 캐릭터가 함께 수상 이동 가능한 선박 스키프’ △협동 전투 마운트 시저 터틀’ △최고 레벨 캐릭터를 성장시킬 수 있는 9개 특수화 시스템’ 등이 특징이다 엔씨웨스트 NC West 길드워2’ 신규확장팩 엔드오브드래곤즈’ 엔씨 제공 엔씨웨스트는 출시를 앞두고 2월 한 달간 신규 지역 및 콘텐츠 정보와 게임 OST 등을 공식 트위치와 유튜브 채널에서 추가 공개한다 글로벌 이용자는 사전 구매에 참여할 수 있다 엔씨웨스트 길드워2 엔드오브드래곤즈 파이낸셜뉴스 관련뉴스해당 언론사에서 선정하며 언론사 페이지 아웃링크 로 이동해 볼 수 있습니다 김건희 과거사진에 놀란 누리꾼 애교머리 빼면 의외로 이효리 폭탄발언 엄정화 브래지어 맞는데 中 금지된 검색어 쉬저우 8명의 자녀 사건의 전말 다른 곳도 한국인처럼 영국男의 선넘은 수술윤여정이 조영남에게 남긴 한 마디 셋이 함께'],\n",
            "      dtype='object')\n",
            "<class 'pandas.core.frame.DataFrame'>\n",
            "Int64Index: 4545 entries, 0 to 4544\n",
            "Data columns (total 3 columns):\n",
            " #   Column   Non-Null Count  Dtype \n",
            "---  ------   --------------  ----- \n",
            " 0   Date     4545 non-null   object\n",
            " 1   Title    4545 non-null   object\n",
            " 2   Content  4545 non-null   object\n",
            "dtypes: object(3)\n",
            "memory usage: 142.0+ KB\n",
            "None\n"
          ]
        }
      ],
      "source": [
        "print(news.head())\n",
        "\n",
        "data1 = news.columns\n",
        "print(data1)\n",
        "\n",
        "news.columns = ['Date','Title','Content']\n",
        "news.loc[news.shape[0]] = data1\n",
        "\n",
        "print(news.info())"
      ]
    },
    {
      "cell_type": "code",
      "execution_count": null,
      "metadata": {
        "colab": {
          "base_uri": "https://localhost:8080/"
        },
        "id": "fhVdQ22gLrQU",
        "outputId": "d7bcca64-1aaa-4470-ba33-332ae7e77c92"
      },
      "outputs": [
        {
          "name": "stdout",
          "output_type": "stream",
          "text": [
            "0    ◆ 사진 엔씨소프트 엔씨소프트의 북미법인 엔씨웨스트 NC West 가 길드워2의 신...\n",
            "1    길드워2 신규 확장팩 엔드오브드래곤즈 End of Dragons 사진 엔씨소프트 제...\n",
            "2    이데일리 김정유 기자 엔씨소프트 036570 이하 엔씨 는 북미법인 엔씨웨스트가 길...\n",
            "3    서울 뉴스1 김근욱 기자 27일 오전 서울 구로구 넷마블 신사옥 G타워에서 열린 제...\n",
            "4    이데일리 김정유 기자 설 연휴를 맞은 국내 게임 업계가 다양한 이벤트로 이용자 잡기...\n",
            "Name: Content, dtype: object\n",
            "(4545,)\n"
          ]
        }
      ],
      "source": [
        "contents = news.loc[:, 'Content']\n",
        "print(contents.head())\n",
        "print(contents.shape)"
      ]
    },
    {
      "cell_type": "code",
      "execution_count": null,
      "metadata": {
        "colab": {
          "base_uri": "https://localhost:8080/"
        },
        "id": "VQkIh_O0aQ8Y",
        "outputId": "771ba857-3314-459c-e2f1-9bb9cbf3a9d8"
      },
      "outputs": [
        {
          "name": "stderr",
          "output_type": "stream",
          "text": [
            "IOPub data rate exceeded.\n",
            "The notebook server will temporarily stop sending output\n",
            "to the client in order to avoid crashing it.\n",
            "To change this limit, set the config variable\n",
            "`--NotebookApp.iopub_data_rate_limit`.\n",
            "\n",
            "Current values:\n",
            "NotebookApp.iopub_data_rate_limit=1000000.0 (bytes/sec)\n",
            "NotebookApp.rate_limit_window=3.0 (secs)\n",
            "\n"
          ]
        }
      ],
      "source": [
        "cont = []\n",
        "\n",
        "for idx in range(len(contents)):\n",
        "  cont.append(contents[idx])\n",
        "\n",
        "print(cont) # 길이를 초과했다고 나옴."
      ]
    },
    {
      "cell_type": "code",
      "execution_count": null,
      "metadata": {
        "colab": {
          "base_uri": "https://localhost:8080/"
        },
        "id": "ZcQhDjv9a065",
        "outputId": "42827889-0a44-4756-f0e8-5936d8d1a828"
      },
      "outputs": [
        {
          "name": "stdout",
          "output_type": "stream",
          "text": [
            "['사진', '엔씨소프트', '엔씨소프트', '북미', '법인', '엔씨', '웨스트', '길드워', '의', '신규', '확장팩', '엔드', '오브', '드래곤즈', '를', '현지', '기준', '북미', '유럽', '지역', '출시', '길드워', '엔씨', '북미', '개발', '스튜디오', '아레나넷', '이', '제작', '온라인', '엔드', '오브', '드래곤즈', '가시', '심장', '패스', '오브', '파이어', '약', '길드워', '의', '세번', '확장팩', '엔씨', '웨스트', '출시일', '신규', '트레일러', '영상', '공개', '확장팩', '주', '무대', '칸타', '영지', '모습', '신규', '콘텐츠', '및', '기능', '수', '대규모', '오픈', '월드', '콘텐츠', '수상', '공간', '수', '낚시', '수상', '이동', '선박', '스키', '프', '협동', '전투', '마운트', '시저', '터틀', '최고', '레벨', '캐릭터', '성장', '수', '개', '특수', '시스템', '등', '특징', '엔씨', '웨스트', '출시', '달', '신규', '지역', '및', '콘텐츠', '정보', '게임', '등', '공식', '트위치', '유튜브', '채널', '추가', '공개', '엔씨', '웨스트', '지난', '첫', '트레일러', '영상', '시작', '공식', '홈페이지', '라이브', '스트리밍', '베타', '프리뷰', '이벤트', '등', '통해', '신규', '콘텐츠', '지속', '공개', '글로벌', '이용자', '사전', '구매', '참여', '수', '사전', '구매', '스탠다드', '에디', '션', '디럭스', '에디', '션', '얼티', '메이트', '에디', '션', '등', '세', '가지', '구성', '사전', '구매', '참여', '이용자', '게임', '내', '사용', '보너스', '아이템', '수', '내용', '길드워', '공식', '홈페이지', '확인', '수', '조세일보', '관련', '뉴스', '해당', '언론사', '선정', '언론사', '페이지', '아웃', '링크', '로', '이동해', '볼', '수', '네거티브', '정책', '토론', '모두', '품격', '중부', '경북', '북부', '한파', '체감온도', '뚝', '당분간', '추위', '계속', '공수', '사단', '등', '미군', '명', '동유럽', '추가', '배치', '수일', '내', '이동', '김건희', '김혜경', '논란', '이상돈', '공과', '사', '구분', '안', '사람', '꽤', '비트코인', '혼', '조세', '유지', '하락']\n"
          ]
        }
      ],
      "source": [
        "# test\n",
        "\n",
        "okt = Okt()\n",
        "print(okt.nouns(contents[0]))"
      ]
    },
    {
      "cell_type": "code",
      "execution_count": null,
      "metadata": {
        "colab": {
          "background_save": true
        },
        "id": "p00TSCcgQp7G"
      },
      "outputs": [],
      "source": [
        "# Okt 객체 선언 - Mecab으로 써보기\n",
        "okt = Okt()\n",
        "\n",
        "words = []\n",
        "\n",
        "for idx in range(len(contents)):\n",
        "  words.append(okt.nouns(contents[idx]))"
      ]
    },
    {
      "cell_type": "code",
      "execution_count": null,
      "metadata": {
        "id": "fYAIXAUbXsx2"
      },
      "outputs": [],
      "source": [
        ""
      ]
    }
  ],
  "metadata": {
    "colab": {
      "name": "\bemotion_dict.ipynb",
      "provenance": []
    },
    "kernelspec": {
      "display_name": "Python 3",
      "name": "python3"
    },
    "language_info": {
      "name": "python"
    }
  },
  "nbformat": 4,
  "nbformat_minor": 0
}